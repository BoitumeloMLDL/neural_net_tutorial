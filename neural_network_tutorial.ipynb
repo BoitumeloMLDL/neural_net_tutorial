{
 "cells": [
  {
   "cell_type": "markdown",
   "id": "c893234e-68af-44ca-ad5c-bcb97e2b518d",
   "metadata": {},
   "source": [
    "### The first part of creating a Neural Network using raw python with numpy. Added a class."
   ]
  },
  {
   "cell_type": "code",
   "execution_count": 21,
   "id": "89a90a13-077d-4ec6-927c-6add94bb1608",
   "metadata": {},
   "outputs": [
    {
     "name": "stdout",
     "output_type": "stream",
     "text": [
      "Collecting nnfs\n",
      "  Downloading nnfs-0.5.1-py3-none-any.whl.metadata (1.7 kB)\n",
      "Requirement already satisfied: numpy in /opt/anaconda3/lib/python3.11/site-packages (from nnfs) (1.26.4)\n",
      "Downloading nnfs-0.5.1-py3-none-any.whl (9.1 kB)\n",
      "Installing collected packages: nnfs\n",
      "Successfully installed nnfs-0.5.1\n"
     ]
    }
   ],
   "source": [
    "!pip install nnfs"
   ]
  },
  {
   "cell_type": "code",
   "execution_count": 25,
   "id": "009a610f-6fe4-42e7-bb16-def1abc62028",
   "metadata": {},
   "outputs": [],
   "source": [
    "import numpy as np\n",
    "import nnfs\n",
    "from nnfs.datasets import spiral_data\n",
    "import matplotlib.pyplot as plt\n",
    "%matplotlib inline"
   ]
  },
  {
   "cell_type": "code",
   "execution_count": 26,
   "id": "2f6f56e6-b786-4740-a93d-588290f7d473",
   "metadata": {},
   "outputs": [],
   "source": [
    "nnfs.init()"
   ]
  },
  {
   "cell_type": "code",
   "execution_count": 14,
   "id": "9ac8cd60-b4b8-4231-b951-bfd2758b22c7",
   "metadata": {},
   "outputs": [],
   "source": [
    "X = [[1, 2, 3, 2.5],\n",
    "     [2.0, 5.0, 1.0, 2.0],\n",
    "     [1.5, 2.7, 3.3, 0.8]]"
   ]
  },
  {
   "cell_type": "code",
   "execution_count": 27,
   "id": "c3b8d2cf-c201-437d-a413-4db54ac1baa7",
   "metadata": {},
   "outputs": [],
   "source": [
    "X, y = spiral_data(100,3)"
   ]
  },
  {
   "cell_type": "code",
   "execution_count": 18,
   "id": "8b9735ce-48db-4f3b-a29f-3391dcca5173",
   "metadata": {},
   "outputs": [],
   "source": [
    "class Layer_Dense:\n",
    "    def __init__(self, n_inputs, n_neurons):\n",
    "        self.weights = 0.10 * np.random.randn(n_inputs, n_neurons)\n",
    "        self.biases = np.zeros((1, n_neurons))\n",
    "    def forward(self, inputs):\n",
    "        self.output = np.dot(inputs, self.weights) + self.biases    "
   ]
  },
  {
   "cell_type": "code",
   "execution_count": 23,
   "id": "7974b279-7742-4d0d-ac8f-3bac7ee8ed79",
   "metadata": {},
   "outputs": [],
   "source": [
    "class Activation_ReLu:\n",
    "    def forward(self, inputs):\n",
    "        self.output = np.maximum(0, inputs)"
   ]
  },
  {
   "cell_type": "code",
   "execution_count": 20,
   "id": "0212873d-5c16-4651-9b1b-86853f06361f",
   "metadata": {},
   "outputs": [
    {
     "name": "stdout",
     "output_type": "stream",
     "text": [
      "[[-0.10146352 -0.03636197]\n",
      " [-0.01545033 -0.01746538]\n",
      " [-0.06360681  0.00955163]]\n"
     ]
    }
   ],
   "source": [
    "layer1 = Layer_Dense(2,5)\n",
    "activation1 = Activation_ReLu()"
   ]
  },
  {
   "cell_type": "markdown",
   "id": "447b52e7-9269-41b2-b0f7-bcfa55ff3cb8",
   "metadata": {},
   "source": [
    "### Function to create a spiral dataset"
   ]
  },
  {
   "cell_type": "code",
   "execution_count": null,
   "id": "73858058-1225-45d7-84e7-12c365b2262f",
   "metadata": {},
   "outputs": [],
   "source": [
    "#https://cs231n.github.io/neural-networks-case-study/\n",
    "def spiral_data(points, classes):\n",
    "    X = np.zeros((points*classes, 2))\n",
    "    y = np.zeros(points*classes, dtype='uint8')\n",
    "    for class_number in range(classes):\n",
    "        ix = range(points*class_number, points*(class_number+1))\n",
    "        r = np.linspace(0.0, 1, points)  # radius\n",
    "        t = np.linspace(class_number*4, (class_number+1)*4, points) + np.random.randn(points)*0.2\n",
    "        X[ix] = np.c_[r*np.sin(t*2.5), r*np.cos(t*2.5)]\n",
    "        y[ix] = class_number\n",
    "    return X, y"
   ]
  }
 ],
 "metadata": {
  "kernelspec": {
   "display_name": "Python 3 (ipykernel)",
   "language": "python",
   "name": "python3"
  },
  "language_info": {
   "codemirror_mode": {
    "name": "ipython",
    "version": 3
   },
   "file_extension": ".py",
   "mimetype": "text/x-python",
   "name": "python",
   "nbconvert_exporter": "python",
   "pygments_lexer": "ipython3",
   "version": "3.11.8"
  }
 },
 "nbformat": 4,
 "nbformat_minor": 5
}
